{
 "cells": [
  {
   "cell_type": "code",
   "execution_count": 5,
   "id": "aa892472",
   "metadata": {},
   "outputs": [],
   "source": [
    "def round_to_2(x):\n",
    "    \"\"\"\n",
    "    Принимает число и возвращает результат его округления\n",
    "    до 2 знаков после запятой.\n",
    "    \n",
    "    Аргументы:\n",
    "        x: Число.\n",
    "        \n",
    "    Возвращаемое значение:\n",
    "        Результат округления числа до 2 знаков после запятой.\n",
    "    \"\"\"\n",
    "    \n",
    "    return round(x, 2)"
   ]
  },
  {
   "cell_type": "code",
   "execution_count": 6,
   "id": "3a0717c2",
   "metadata": {},
   "outputs": [],
   "source": [
    "def custom_compare(x, y):\n",
    "    if str(x) != str(y):\n",
    "        raise RuntimeError(f'Ожидаемое значение: {y}. Фактическое: {x}')"
   ]
  },
  {
   "cell_type": "markdown",
   "id": "086542ed",
   "metadata": {},
   "source": [
    "# Разбиение строки по разделителю"
   ]
  },
  {
   "cell_type": "code",
   "execution_count": 6,
   "id": "5ccc3075",
   "metadata": {},
   "outputs": [
    {
     "name": "stdout",
     "output_type": "stream",
     "text": [
      "1 А\n",
      "1 Ал\n",
      "1 Але\n",
      "1 Алек\n",
      "1 Алекс\n",
      "1 Алекса\n",
      "1 Алексан\n",
      "1 Александ\n",
      "1 Александр\n",
      "1 Александр \n",
      "1 Александр А\n",
      "1 Александр Ал\n",
      "1 Александр Але\n",
      "1 Александр Алек\n",
      "1 Александр Алекс\n",
      "1 Александр Алекса\n",
      "1 Александр Алексан\n",
      "1 Александр Александ\n",
      "1 Александр Александр\n",
      "1 Александр Александро\n",
      "1 Александр Александров\n",
      "1 Александр Александрови\n",
      "1 Александр Александрович\n",
      "1 Александр Александрович \n",
      "1 Александр Александрович А\n",
      "1 Александр Александрович Ал\n",
      "1 Александр Александрович Але\n",
      "1 Александр Александрович Алек\n",
      "1 Александр Александрович Алекс\n",
      "1 Александр Александрович Алекса\n",
      "1 Александр Александрович Алексан\n",
      "1 Александр Александрович Александ\n",
      "1 Александр Александрович Александр\n",
      "1 Александр Александрович Александро\n",
      "Александр Александрович Александров\n",
      "2 2\n",
      "1 20\n",
      "1 200\n",
      "2005\n",
      "2 1\n",
      "['Александр Александрович Александров', '', '2005']\n"
     ]
    }
   ],
   "source": [
    "def split_line(line, sep):\n",
    "    \"\"\"\n",
    "    Возвращает список значений, которые содержатся в строке\n",
    "    и разделены конкретным разделителем. Если какое-то из значений обособлено\n",
    "    двойными кавычками, то разделительный символ внутри него не считается разделителем.\n",
    "    \n",
    "    Например, если передать в функцию строку 'aa,bb,\"cc, oo\",dd' и разделитель ',',\n",
    "    то в результате работы функции получится список ['aa', 'bb', 'cc, oo', 'dd'].\n",
    "    \n",
    "    Аргументы:\n",
    "        line: Строка, которую нужно разбить на подстроки.\n",
    "         sep: Разделитель, который используется в строке для отделения различных значений.\n",
    "              Гарантируется, что в качестве разделителя в функцию не будет\n",
    "              передаваться символ '\"' (двойная кавычка).\n",
    "        \n",
    "    Возвращаемое значение:\n",
    "        Список подстрок, которые получаются в результате\n",
    "        разбиения строки по разделителю.\n",
    "    \"\"\"\n",
    "    if line == '':\n",
    "        return ['']\n",
    "\n",
    "    res = []\n",
    "    text = ''\n",
    "    count = 0\n",
    "    while count +1 < len(line):\n",
    "        if line[count] == line[count+1] == sep:\n",
    "            res.append(text)\n",
    "            count +1\n",
    "        if line[count] != sep and line[count+1] == sep:\n",
    "            text += line[count]\n",
    "            res.append(text)\n",
    "            print(text)\n",
    "            text = ''\n",
    "            # count += 1\n",
    "        if line[count] != sep and line[count+1] != sep:\n",
    "            text += line[count]\n",
    "            print(f'1 {text}')\n",
    "        else: \n",
    "            if line[count] == sep and line[count+1] != sep:\n",
    "                text += line[count+1]\n",
    "                count +=1\n",
    "                print(f'2 {text}')\n",
    "        count += 1\n",
    "    \n",
    "    return res\n",
    "\n",
    "print(split_line('Александр Александрович Александров,,2005,11', ','))"
   ]
  },
  {
   "cell_type": "code",
   "execution_count": 52,
   "id": "b81f3786",
   "metadata": {},
   "outputs": [],
   "source": [
    "def read_split_line_tests():\n",
    "    example_1_line = 'Александр Александрович Александров,,2005,11'\n",
    "    example_1_sep = ','\n",
    "    example_1_res = ['Александр Александрович Александров', '', '2005', '11']\n",
    "    \n",
    "    custom_compare(split_line(example_1_line, example_1_sep), example_1_res)\n",
    "    \n",
    "    example_2_line = 'Евгений Сергеевич Дёмин;;'\n",
    "    example_2_sep = ';'\n",
    "    example_2_res = ['Евгений Сергеевич Дёмин', '', '']\n",
    "    \n",
    "    custom_compare(split_line(example_2_line, example_2_sep), example_2_res)\n",
    "    \n",
    "    example_3_line = 'Анна Павловна Иванова,\"[запись 1, запись 2, запись 3]\", ,2'\n",
    "    example_3_sep = ','\n",
    "    example_3_res = ['Анна Павловна Иванова', '[запись 1, запись 2, запись 3]', ' ', '2']\n",
    "    \n",
    "    custom_compare(split_line(example_3_line, example_3_sep), example_3_res)\n",
    "    \n",
    "    print('Все тесты прошли успешно!')"
   ]
  },
  {
   "cell_type": "code",
   "execution_count": 53,
   "id": "d70a12d0",
   "metadata": {},
   "outputs": [
    {
     "name": "stdout",
     "output_type": "stream",
     "text": [
      "Александр Александрович Александров\n",
      "22005\n"
     ]
    },
    {
     "ename": "RuntimeError",
     "evalue": "Ожидаемое значение: ['Александр Александрович Александров', '', '2005', '11']. Фактическое: ['Александр Александрович Александров', '', '22005']",
     "output_type": "error",
     "traceback": [
      "\u001b[1;31m---------------------------------------------------------------------------\u001b[0m",
      "\u001b[1;31mRuntimeError\u001b[0m                              Traceback (most recent call last)",
      "Cell \u001b[1;32mIn[53], line 1\u001b[0m\n\u001b[1;32m----> 1\u001b[0m \u001b[43mread_split_line_tests\u001b[49m\u001b[43m(\u001b[49m\u001b[43m)\u001b[49m\n",
      "Cell \u001b[1;32mIn[52], line 6\u001b[0m, in \u001b[0;36mread_split_line_tests\u001b[1;34m()\u001b[0m\n\u001b[0;32m      3\u001b[0m example_1_sep \u001b[38;5;241m=\u001b[39m \u001b[38;5;124m'\u001b[39m\u001b[38;5;124m,\u001b[39m\u001b[38;5;124m'\u001b[39m\n\u001b[0;32m      4\u001b[0m example_1_res \u001b[38;5;241m=\u001b[39m [\u001b[38;5;124m'\u001b[39m\u001b[38;5;124mАлександр Александрович Александров\u001b[39m\u001b[38;5;124m'\u001b[39m, \u001b[38;5;124m'\u001b[39m\u001b[38;5;124m'\u001b[39m, \u001b[38;5;124m'\u001b[39m\u001b[38;5;124m2005\u001b[39m\u001b[38;5;124m'\u001b[39m, \u001b[38;5;124m'\u001b[39m\u001b[38;5;124m11\u001b[39m\u001b[38;5;124m'\u001b[39m]\n\u001b[1;32m----> 6\u001b[0m \u001b[43mcustom_compare\u001b[49m\u001b[43m(\u001b[49m\u001b[43msplit_line\u001b[49m\u001b[43m(\u001b[49m\u001b[43mexample_1_line\u001b[49m\u001b[43m,\u001b[49m\u001b[43m \u001b[49m\u001b[43mexample_1_sep\u001b[49m\u001b[43m)\u001b[49m\u001b[43m,\u001b[49m\u001b[43m \u001b[49m\u001b[43mexample_1_res\u001b[49m\u001b[43m)\u001b[49m\n\u001b[0;32m      8\u001b[0m example_2_line \u001b[38;5;241m=\u001b[39m \u001b[38;5;124m'\u001b[39m\u001b[38;5;124mЕвгений Сергеевич Дёмин;;\u001b[39m\u001b[38;5;124m'\u001b[39m\n\u001b[0;32m      9\u001b[0m example_2_sep \u001b[38;5;241m=\u001b[39m \u001b[38;5;124m'\u001b[39m\u001b[38;5;124m;\u001b[39m\u001b[38;5;124m'\u001b[39m\n",
      "Cell \u001b[1;32mIn[6], line 3\u001b[0m, in \u001b[0;36mcustom_compare\u001b[1;34m(x, y)\u001b[0m\n\u001b[0;32m      1\u001b[0m \u001b[38;5;28;01mdef\u001b[39;00m \u001b[38;5;21mcustom_compare\u001b[39m(x, y):\n\u001b[0;32m      2\u001b[0m     \u001b[38;5;28;01mif\u001b[39;00m \u001b[38;5;28mstr\u001b[39m(x) \u001b[38;5;241m!=\u001b[39m \u001b[38;5;28mstr\u001b[39m(y):\n\u001b[1;32m----> 3\u001b[0m         \u001b[38;5;28;01mraise\u001b[39;00m \u001b[38;5;167;01mRuntimeError\u001b[39;00m(\u001b[38;5;124mf\u001b[39m\u001b[38;5;124m'\u001b[39m\u001b[38;5;124mОжидаемое значение: \u001b[39m\u001b[38;5;132;01m{\u001b[39;00my\u001b[38;5;132;01m}\u001b[39;00m\u001b[38;5;124m. Фактическое: \u001b[39m\u001b[38;5;132;01m{\u001b[39;00mx\u001b[38;5;132;01m}\u001b[39;00m\u001b[38;5;124m'\u001b[39m)\n",
      "\u001b[1;31mRuntimeError\u001b[0m: Ожидаемое значение: ['Александр Александрович Александров', '', '2005', '11']. Фактическое: ['Александр Александрович Александров', '', '22005']"
     ]
    }
   ],
   "source": [
    "read_split_line_tests()"
   ]
  },
  {
   "cell_type": "markdown",
   "id": "b3e43ed2",
   "metadata": {},
   "source": [
    "# Чтение csv-файла"
   ]
  },
  {
   "cell_type": "code",
   "execution_count": null,
   "id": "4b3a7c63",
   "metadata": {},
   "outputs": [],
   "source": [
    "def read_csv_and_calc_mean(lines, sep, column_name):\n",
    "    \"\"\"\n",
    "    Принимает список строк из csv-файла и возвращает среднее значение в заданной колонке.\n",
    "    Гарантируется, что в первой строке csv-файла всегда представлены названия его колонок.\n",
    "    \n",
    "    Аргументы:\n",
    "        lines: Список строк, прочитанных из csv-файла.\n",
    "        sep: Разделитель, который используется в строках для отделения различных значений.\n",
    "        column_name: Название колонки с целочисленными значениями, по которой нужно посчитать среднее.\n",
    "        \n",
    "    Возвращаемое значение:\n",
    "        Среднее значение в заданной колонке, округлённое до 2 знаков\n",
    "        после запятой с помощью функции round_to_2.\n",
    "    \"\"\"\n",
    "    \n",
    "    pass"
   ]
  },
  {
   "cell_type": "code",
   "execution_count": null,
   "id": "b8a47b00",
   "metadata": {},
   "outputs": [],
   "source": [
    "def read_csv_and_calc_mean_tests():\n",
    "    example_1_lines = [\n",
    "        'id,ФИО,Возраст,Город',\n",
    "        '1,Петров Пётр Петрович,21,Москва',\n",
    "        '2,Марьина Марина Леонидовна,18,Новороссийск',\n",
    "        '3,Иванова Елена Ивановна,34,Пермь'\n",
    "    ]\n",
    "    example_1_sep = ','\n",
    "    example_1_column = 'Возраст'\n",
    "    example_1_res = 24.33\n",
    "    \n",
    "    custom_compare(read_csv_and_calc_mean(example_1_lines, example_1_sep, example_1_column), example_1_res)\n",
    "    \n",
    "    example_2_lines = [\n",
    "        'Число реакций,id записи',\n",
    "        '234,1',\n",
    "        '361,2',\n",
    "        '177,3',\n",
    "        '32,4',\n",
    "        '670,5'\n",
    "    ]\n",
    "    example_2_sep = ','\n",
    "    example_2_column = 'Число реакций'\n",
    "    example_2_res = 294.8\n",
    "    \n",
    "    custom_compare(read_csv_and_calc_mean(example_2_lines, example_2_sep, example_2_column), example_2_res)\n",
    "    \n",
    "    print('Все тесты прошли успешно!')"
   ]
  },
  {
   "cell_type": "code",
   "execution_count": null,
   "id": "25932d5e",
   "metadata": {},
   "outputs": [],
   "source": [
    "read_csv_and_calc_mean_tests()"
   ]
  }
 ],
 "metadata": {
  "kernelspec": {
   "display_name": "Python 3 (ipykernel)",
   "language": "python",
   "name": "python3"
  },
  "language_info": {
   "codemirror_mode": {
    "name": "ipython",
    "version": 3
   },
   "file_extension": ".py",
   "mimetype": "text/x-python",
   "name": "python",
   "nbconvert_exporter": "python",
   "pygments_lexer": "ipython3",
   "version": "3.10.6"
  }
 },
 "nbformat": 4,
 "nbformat_minor": 5
}
