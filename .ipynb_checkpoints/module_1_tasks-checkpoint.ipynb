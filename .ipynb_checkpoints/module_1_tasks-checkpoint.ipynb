{
 "cells": [
  {
   "cell_type": "code",
   "execution_count": null,
   "id": "aa892472",
   "metadata": {},
   "outputs": [],
   "source": [
    "def round_to_2(x):\n",
    "    \"\"\"\n",
    "    Принимает число и возвращает результат его округления\n",
    "    до 2 знаков после запятой.\n",
    "    \n",
    "    Аргументы:\n",
    "        x: Число.\n",
    "        \n",
    "    Возвращаемое значение:\n",
    "        Результат округления числа до 2 знаков после запятой.\n",
    "    \"\"\"\n",
    "    \n",
    "    return round(x, 2)"
   ]
  },
  {
   "cell_type": "code",
   "execution_count": null,
   "id": "3a0717c2",
   "metadata": {},
   "outputs": [],
   "source": [
    "def custom_compare(x, y):\n",
    "    if str(x) != str(y):\n",
    "        raise RuntimeError(f'Ожидаемое значение: {y}. Фактическое: {x}')"
   ]
  },
  {
   "cell_type": "markdown",
   "id": "086542ed",
   "metadata": {},
   "source": [
    "# Разбиение строки по разделителю"
   ]
  },
  {
   "cell_type": "code",
   "execution_count": null,
   "id": "5ccc3075",
   "metadata": {},
   "outputs": [],
   "source": [
    "def split_line(line, sep):\n",
    "    \"\"\"\n",
    "    Возвращает список значений, которые содержатся в строке\n",
    "    и разделены конкретным разделителем. Если какое-то из значений обособлено\n",
    "    двойными кавычками, то разделительный символ внутри него не считается разделителем.\n",
    "    \n",
    "    Например, если передать в функцию строку 'aa,bb,\"cc, oo\",dd' и разделитель ',',\n",
    "    то в результате работы функции получится список ['aa', 'bb', 'cc, oo', 'dd'].\n",
    "    \n",
    "    Аргументы:\n",
    "        line: Строка, которую нужно разбить на подстроки.\n",
    "         sep: Разделитель, который используется в строке для отделения различных значений.\n",
    "              Гарантируется, что в качестве разделителя в функцию не будет\n",
    "              передаваться символ '\"' (двойная кавычка).\n",
    "        \n",
    "    Возвращаемое значение:\n",
    "        Список подстрок, которые получаются в результате\n",
    "        разбиения строки по разделителю.\n",
    "    \"\"\"\n",
    "    \n",
    "    pass"
   ]
  },
  {
   "cell_type": "code",
   "execution_count": null,
   "id": "b81f3786",
   "metadata": {},
   "outputs": [],
   "source": [
    "def read_split_line_tests():\n",
    "    example_1_line = 'Александр Александрович Александров,,2005,11'\n",
    "    example_1_sep = ','\n",
    "    example_1_res = ['Александр Александрович Александров', '', '2005', '11']\n",
    "    \n",
    "    custom_compare(split_line(example_1_line, example_1_sep), example_1_res)\n",
    "    \n",
    "    example_2_line = 'Евгений Сергеевич Дёмин;;'\n",
    "    example_2_sep = ';'\n",
    "    example_2_res = ['Евгений Сергеевич Дёмин', '', '']\n",
    "    \n",
    "    custom_compare(split_line(example_2_line, example_2_sep), example_2_res)\n",
    "    \n",
    "    example_3_line = 'Анна Павловна Иванова,\"[запись 1, запись 2, запись 3]\", ,2'\n",
    "    example_3_sep = ','\n",
    "    example_3_res = ['Анна Павловна Иванова', '[запись 1, запись 2, запись 3]', ' ', '2']\n",
    "    \n",
    "    custom_compare(split_line(example_3_line, example_3_sep), example_3_res)\n",
    "    \n",
    "    print('Все тесты прошли успешно!')"
   ]
  },
  {
   "cell_type": "code",
   "execution_count": null,
   "id": "d70a12d0",
   "metadata": {},
   "outputs": [],
   "source": [
    "read_split_line_tests()"
   ]
  },
  {
   "cell_type": "markdown",
   "id": "b3e43ed2",
   "metadata": {},
   "source": [
    "# Чтение csv-файла"
   ]
  },
  {
   "cell_type": "code",
   "execution_count": null,
   "id": "4b3a7c63",
   "metadata": {},
   "outputs": [],
   "source": [
    "def read_csv_and_calc_mean(lines, sep, column_name):\n",
    "    \"\"\"\n",
    "    Принимает список строк из csv-файла и возвращает среднее значение в заданной колонке.\n",
    "    Гарантируется, что в первой строке csv-файла всегда представлены названия его колонок.\n",
    "    \n",
    "    Аргументы:\n",
    "        lines: Список строк, прочитанных из csv-файла.\n",
    "        sep: Разделитель, который используется в строках для отделения различных значений.\n",
    "        column_name: Название колонки с целочисленными значениями, по которой нужно посчитать среднее.\n",
    "        \n",
    "    Возвращаемое значение:\n",
    "        Среднее значение в заданной колонке, округлённое до 2 знаков\n",
    "        после запятой с помощью функции round_to_2.\n",
    "    \"\"\"\n",
    "    \n",
    "    pass"
   ]
  },
  {
   "cell_type": "code",
   "execution_count": null,
   "id": "b8a47b00",
   "metadata": {},
   "outputs": [],
   "source": [
    "def read_csv_and_calc_mean_tests():\n",
    "    example_1_lines = [\n",
    "        'id,ФИО,Возраст,Город',\n",
    "        '1,Петров Пётр Петрович,21,Москва',\n",
    "        '2,Марьина Марина Леонидовна,18,Новороссийск',\n",
    "        '3,Иванова Елена Ивановна,34,Пермь'\n",
    "    ]\n",
    "    example_1_sep = ','\n",
    "    example_1_column = 'Возраст'\n",
    "    example_1_res = 24.33\n",
    "    \n",
    "    custom_compare(read_csv_and_calc_mean(example_1_lines, example_1_sep, example_1_column), example_1_res)\n",
    "    \n",
    "    example_2_lines = [\n",
    "        'Число реакций,id записи',\n",
    "        '234,1',\n",
    "        '361,2',\n",
    "        '177,3',\n",
    "        '32,4',\n",
    "        '670,5'\n",
    "    ]\n",
    "    example_2_sep = ','\n",
    "    example_2_column = 'Число реакций'\n",
    "    example_2_res = 294.8\n",
    "    \n",
    "    custom_compare(read_csv_and_calc_mean(example_2_lines, example_2_sep, example_2_column), example_2_res)\n",
    "    \n",
    "    print('Все тесты прошли успешно!')"
   ]
  },
  {
   "cell_type": "code",
   "execution_count": null,
   "id": "25932d5e",
   "metadata": {},
   "outputs": [],
   "source": [
    "read_csv_and_calc_mean_tests()"
   ]
  }
 ],
 "metadata": {
  "kernelspec": {
   "display_name": "Python 3 (ipykernel)",
   "language": "python",
   "name": "python3"
  },
  "language_info": {
   "codemirror_mode": {
    "name": "ipython",
    "version": 3
   },
   "file_extension": ".py",
   "mimetype": "text/x-python",
   "name": "python",
   "nbconvert_exporter": "python",
   "pygments_lexer": "ipython3",
   "version": "3.9.5"
  }
 },
 "nbformat": 4,
 "nbformat_minor": 5
}
