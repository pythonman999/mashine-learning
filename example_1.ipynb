{
 "cells": [
  {
   "cell_type": "code",
   "execution_count": 15,
   "id": "3c189a46",
   "metadata": {},
   "outputs": [],
   "source": [
    "from math import floor"
   ]
  },
  {
   "cell_type": "code",
   "execution_count": 16,
   "id": "a64870e2",
   "metadata": {},
   "outputs": [],
   "source": [
    "def read_lines(file_path):\n",
    "    numbers = []\n",
    "    \n",
    "    with open(file_path, 'r') as f:\n",
    "        for line in f:\n",
    "            numbers.append(float(line.strip('\\n')))\n",
    "    \n",
    "    return numbers\n",
    "\n",
    "def calc_mean(numbers):\n",
    "    return sum(numbers) / len(numbers)\n",
    "\n",
    "def calc_int_mean(numbers):\n",
    "    return floor(sum(numbers) / len(numbers))"
   ]
  },
  {
   "cell_type": "code",
   "execution_count": 17,
   "id": "bab26dad",
   "metadata": {},
   "outputs": [],
   "source": [
    "numbers = read_lines('numbers.txt')"
   ]
  },
  {
   "cell_type": "code",
   "execution_count": 20,
   "id": "095a8955",
   "metadata": {},
   "outputs": [
    {
     "name": "stdout",
     "output_type": "stream",
     "text": [
      "Среднее равно: 6.933333333333334\n",
      "Среднее, округлённое вниз, равно: 6\n"
     ]
    }
   ],
   "source": [
    "print('Среднее равно:', calc_mean(numbers))\n",
    "print('Среднее, округлённое вниз, равно:', calc_int_mean(numbers))"
   ]
  },
  {
   "cell_type": "code",
   "execution_count": 8,
   "id": "a5581dd2",
   "metadata": {},
   "outputs": [
    {
     "data": {
      "text/plain": [
       "[2.0, 3.0, 1.0, 5.0, 3.0, 4.0, 3.0, 2.0, 1.0, 3.0, 4.0, 2.0, 5.0, 5.0, 1.0]"
      ]
     },
     "execution_count": 8,
     "metadata": {},
     "output_type": "execute_result"
    }
   ],
   "source": [
    "numbers"
   ]
  },
  {
   "cell_type": "code",
   "execution_count": 9,
   "id": "33f359fa",
   "metadata": {},
   "outputs": [],
   "source": [
    "def modify_list(numbers, add):\n",
    "    res = []\n",
    "    \n",
    "    for x in numbers:\n",
    "        res.append(x + add)\n",
    "        \n",
    "    return res"
   ]
  },
  {
   "cell_type": "code",
   "execution_count": 10,
   "id": "243cb090",
   "metadata": {},
   "outputs": [
    {
     "data": {
      "text/plain": [
       "[6.0, 7.0, 5.0, 9.0, 7.0, 8.0, 7.0, 6.0, 5.0, 7.0, 8.0, 6.0, 9.0, 9.0, 5.0]"
      ]
     },
     "execution_count": 10,
     "metadata": {},
     "output_type": "execute_result"
    }
   ],
   "source": [
    "modify_list(numbers, 4)"
   ]
  },
  {
   "cell_type": "code",
   "execution_count": 19,
   "id": "5521445f",
   "metadata": {},
   "outputs": [],
   "source": [
    "numbers = modify_list(numbers, 4)"
   ]
  },
  {
   "cell_type": "code",
   "execution_count": 13,
   "id": "73b81288",
   "metadata": {},
   "outputs": [
    {
     "name": "stdout",
     "output_type": "stream",
     "text": [
      "Среднее равно: 6.933333333333334\n",
      "Среднее, округлённое вниз, равно: 6\n"
     ]
    }
   ],
   "source": [
    "print('Среднее равно:', calc_mean(numbers))\n",
    "print('Среднее, округлённое вниз, равно:', calc_int_mean(numbers))"
   ]
  },
  {
   "cell_type": "code",
   "execution_count": null,
   "id": "f77fa553",
   "metadata": {},
   "outputs": [],
   "source": []
  }
 ],
 "metadata": {
  "kernelspec": {
   "display_name": "Python 3",
   "language": "python",
   "name": "python3"
  },
  "language_info": {
   "codemirror_mode": {
    "name": "ipython",
    "version": 3
   },
   "file_extension": ".py",
   "mimetype": "text/x-python",
   "name": "python",
   "nbconvert_exporter": "python",
   "pygments_lexer": "ipython3",
   "version": "3.9.14"
  }
 },
 "nbformat": 4,
 "nbformat_minor": 5
}
